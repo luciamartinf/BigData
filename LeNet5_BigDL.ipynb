{
  "nbformat": 4,
  "nbformat_minor": 0,
  "metadata": {
    "colab": {
      "provenance": [],
      "include_colab_link": true
    },
    "kernelspec": {
      "name": "python3",
      "display_name": "Python 3"
    },
    "language_info": {
      "name": "python"
    }
  },
  "cells": [
    {
      "cell_type": "markdown",
      "metadata": {
        "id": "view-in-github",
        "colab_type": "text"
      },
      "source": [
        "<a href=\"https://colab.research.google.com/github/luciamartinf/BigData/blob/main/LeNet5_BigDL.ipynb\" target=\"_parent\"><img src=\"https://colab.research.google.com/assets/colab-badge.svg\" alt=\"Open In Colab\"/></a>"
      ]
    },
    {
      "cell_type": "markdown",
      "source": [
        "# LeNet5 Model with BigDL \n",
        "\n",
        "#### Ángela Gómez Sacristán, Álvaro González Berdasco y Lucía Martín Fernández"
      ],
      "metadata": {
        "id": "I33lECWL7MJP"
      }
    },
    {
      "cell_type": "markdown",
      "source": [
        "## BigDL environment set-up\n",
        "\n",
        "### BigDL Dllib installation"
      ],
      "metadata": {
        "id": "zmicZMoj7O8e"
      }
    },
    {
      "cell_type": "code",
      "source": [
        "# Install latest pre-release version of bigdl-dllib with spark3\n",
        "# Find the latest bigdl-dllib with spark3 from https://sourceforge.net/projects/analytics-zoo/files/dllib-py-spark3/ and intall it\n",
        "!pip install https://sourceforge.net/projects/analytics-zoo/files/dllib-py-spark3/bigdl_dllib_spark3-0.14.0b20211107-py3-none-manylinux1_x86_64.whl\n",
        "\n",
        "#exit() # restart the runtime to refresh installed pkg"
      ],
      "metadata": {
        "colab": {
          "base_uri": "https://localhost:8080/"
        },
        "id": "_666G3J4lc5w",
        "outputId": "22400202-1cbc-41fe-e9fc-0cc508385ef2"
      },
      "execution_count": null,
      "outputs": [
        {
          "output_type": "stream",
          "name": "stdout",
          "text": [
            "Looking in indexes: https://pypi.org/simple, https://us-python.pkg.dev/colab-wheels/public/simple/\n",
            "Collecting bigdl-dllib-spark3==0.14.0b20211107\n",
            "  Using cached https://sourceforge.net/projects/analytics-zoo/files/dllib-py-spark3/bigdl_dllib_spark3-0.14.0b20211107-py3-none-manylinux1_x86_64.whl (93.9 MB)\n",
            "Requirement already satisfied: pyspark==3.1.2 in /usr/local/lib/python3.8/dist-packages (from bigdl-dllib-spark3==0.14.0b20211107) (3.1.2)\n",
            "Requirement already satisfied: numpy>=1.7 in /usr/local/lib/python3.8/dist-packages (from bigdl-dllib-spark3==0.14.0b20211107) (1.21.6)\n",
            "Requirement already satisfied: six>=1.10.0 in /usr/local/lib/python3.8/dist-packages (from bigdl-dllib-spark3==0.14.0b20211107) (1.15.0)\n",
            "Requirement already satisfied: py4j==0.10.9 in /usr/local/lib/python3.8/dist-packages (from pyspark==3.1.2->bigdl-dllib-spark3==0.14.0b20211107) (0.10.9)\n"
          ]
        }
      ]
    },
    {
      "cell_type": "code",
      "source": [
        "!pip install findspark"
      ],
      "metadata": {
        "colab": {
          "base_uri": "https://localhost:8080/"
        },
        "id": "CcnmozzgbobP",
        "outputId": "4dd8aa6b-0887-489e-df7c-8bce43b67aa5"
      },
      "execution_count": null,
      "outputs": [
        {
          "output_type": "stream",
          "name": "stdout",
          "text": [
            "Looking in indexes: https://pypi.org/simple, https://us-python.pkg.dev/colab-wheels/public/simple/\n",
            "Requirement already satisfied: findspark in /usr/local/lib/python3.8/dist-packages (2.0.1)\n"
          ]
        }
      ]
    },
    {
      "cell_type": "markdown",
      "source": [
        "### Importing principal libraries"
      ],
      "metadata": {
        "id": "P_9miYIb7yXE"
      }
    },
    {
      "cell_type": "code",
      "source": [
        "import matplotlib\n",
        "matplotlib.use('Agg')\n",
        "%pylab inline\n",
        "import matplotlib.pyplot as plt\n",
        "from matplotlib.pyplot import imshow\n",
        "\n",
        "import datetime as dt\n",
        "import tempfile\n",
        "import numpy as np\n",
        "import seaborn as sns\n",
        "import os, random\n",
        "import pandas as pd\n",
        "from pathlib import Path\n",
        "from IPython.display import Markdown, display\n",
        "\n",
        "\n",
        "from pyspark.sql import SparkSession\n",
        "from pyspark import SparkContext\n",
        "from pyspark.sql.types import DoubleType\n",
        "from pyspark.sql.functions import lit\n",
        "from pyspark.ml.feature import VectorAssembler\n",
        "from pyspark.ml.evaluation import MulticlassClassificationEvaluator\n",
        "\n",
        "\n",
        "from bigdl.dllib.nncontext import *\n",
        "from bigdl.dllib.nnframes import *\n",
        "from bigdl.dllib.nn.criterion import *\n",
        "from bigdl.dllib.nn.layer import *\n",
        "from bigdl.dllib.optim.optimizer import *\n",
        "\n",
        "from bigdl.dllib import keras\n",
        "from keras.preprocessing.image import ImageDataGenerator\n",
        "from keras.utils import load_img\n",
        "from keras.preprocessing.image import ImageDataGenerator\n",
        "from keras.models import Sequential\n",
        "from keras.layers import *\n",
        "from keras.optimizers import Adam\n",
        "from keras import backend as K\n",
        "from keras.preprocessing import image"
      ],
      "metadata": {
        "id": "vNt0LWVulZks",
        "colab": {
          "base_uri": "https://localhost:8080/"
        },
        "outputId": "c787529a-64d7-4fd8-8396-584088903039"
      },
      "execution_count": null,
      "outputs": [
        {
          "output_type": "stream",
          "name": "stdout",
          "text": [
            "Prepending /usr/local/lib/python3.8/dist-packages/bigdl/share/dllib/conf/spark-bigdl.conf to sys.path\n"
          ]
        }
      ]
    },
    {
      "cell_type": "markdown",
      "source": [
        "### Setting-up Spark Session"
      ],
      "metadata": {
        "id": "QqsiMJ2s78nC"
      }
    },
    {
      "cell_type": "code",
      "source": [
        "import findspark\n",
        "findspark.init()"
      ],
      "metadata": {
        "id": "5NNIFRU1buFN"
      },
      "execution_count": null,
      "outputs": []
    },
    {
      "cell_type": "code",
      "source": [
        "sc = init_nncontext(cluster_mode=\"local\") # run in local mode\n",
        "spark = SparkSession(sc)"
      ],
      "metadata": {
        "colab": {
          "base_uri": "https://localhost:8080/"
        },
        "id": "6dr-aMyymFnv",
        "outputId": "6ef92e7e-57fa-4475-d229-8f66a55e8d2a"
      },
      "execution_count": null,
      "outputs": [
        {
          "output_type": "stream",
          "name": "stdout",
          "text": [
            "Current pyspark location is : /usr/local/lib/python3.8/dist-packages/pyspark/__init__.py\n",
            "Start to getOrCreate SparkContext\n",
            "pyspark_submit_args is:  --driver-class-path /usr/local/lib/python3.8/dist-packages/bigdl/share/dllib/lib/bigdl-dllib-spark_3.1.2-0.14.0-SNAPSHOT-jar-with-dependencies.jar pyspark-shell \n",
            "Successfully got a SparkContext\n"
          ]
        }
      ]
    },
    {
      "cell_type": "markdown",
      "source": [
        "## Import data"
      ],
      "metadata": {
        "id": "LybvpPiI8CEl"
      }
    },
    {
      "cell_type": "code",
      "source": [
        "from google.colab import drive\n",
        "drive.mount('/content/drive')"
      ],
      "metadata": {
        "colab": {
          "base_uri": "https://localhost:8080/"
        },
        "id": "prbSzq0Amoea",
        "outputId": "c120de3d-4af5-4711-95f1-ef88b0e76eb8"
      },
      "execution_count": null,
      "outputs": [
        {
          "output_type": "stream",
          "name": "stdout",
          "text": [
            "Drive already mounted at /content/drive; to attempt to forcibly remount, call drive.mount(\"/content/drive\", force_remount=True).\n"
          ]
        }
      ]
    },
    {
      "cell_type": "code",
      "source": [
        "# Define path to the data directory\n",
        "dir_alldata = Path('/content/drive/MyDrive/Colab Notebooks/chest_xray')\n",
        "# Path to train directory (Fancy pathlib...no more os.path!!)\n",
        "train_data_dir = dir_alldata / 'train'\n",
        "\n",
        "# Path to validation directory\n",
        "validation_data_dir = dir_alldata / 'val'\n",
        "\n",
        "# Path to test directory\n",
        "test_data_dir = dir_alldata / 'test'\n",
        "\n",
        "# Get the path to the normal and pneumonia sub-directories\n",
        "normal_cases_train = train_data_dir / 'NORMAL'\n",
        "pneumonia_cases_train = train_data_dir / 'PNEUMONIA'"
      ],
      "metadata": {
        "id": "ujg74xgAmpE8"
      },
      "execution_count": null,
      "outputs": []
    },
    {
      "cell_type": "markdown",
      "source": [
        "### Data transformation\n",
        "\n",
        "Transformation of the images to generators and then to np.arrays, together with its correspondent labels"
      ],
      "metadata": {
        "id": "_m3MRUgo8K3w"
      }
    },
    {
      "cell_type": "code",
      "source": [
        "img_width, img_height = 64,64\n",
        "nb_train_sample =5216\n",
        "nb_validation_samples =16\n",
        "nb_test_samples = 624\n",
        "\n",
        "#epochs = 50\n",
        "batch_size = 32\n",
        "\n",
        "if K.image_data_format()==\"channels_first\":\n",
        "    input_shape =(3,img_width, img_height)\n",
        "else:\n",
        "    input_shape =(img_width, img_height,3)\n",
        "\n",
        "train_datagen = ImageDataGenerator(rescale=1./255, shear_range=0.2, zoom_range=0.2, horizontal_flip=True)\n",
        "\n",
        "validation_datagen = ImageDataGenerator(rescale=1./255, shear_range=0.2, zoom_range=0.2, horizontal_flip=True)\n",
        "\n",
        "test_datagen = ImageDataGenerator(rescale=1./255)\n",
        "\n",
        "train_generator= train_datagen.flow_from_directory(train_data_dir, target_size =(150,150), batch_size = 64, class_mode=\"binary\" )\n",
        "\n",
        "validation_generator = validation_datagen.flow_from_directory(validation_data_dir, target_size = (150,150), batch_size =  batch_size, class_mode=\"binary\")\n",
        " \n",
        "test_generator = test_datagen.flow_from_directory(test_data_dir, target_size = (150,150), batch_size= batch_size,  class_mode=\"binary\")\n",
        " "
      ],
      "metadata": {
        "colab": {
          "base_uri": "https://localhost:8080/"
        },
        "id": "exbq13kimssd",
        "outputId": "ac66ca16-fe80-417f-d136-5193cd72c5e1"
      },
      "execution_count": null,
      "outputs": [
        {
          "output_type": "stream",
          "name": "stdout",
          "text": [
            "Found 5216 images belonging to 2 classes.\n",
            "Found 16 images belonging to 2 classes.\n",
            "Found 624 images belonging to 2 classes.\n"
          ]
        }
      ]
    },
    {
      "cell_type": "markdown",
      "source": [
        "The generator datatypes automatically generate data batches. However to obtain the full data in np.array mode we used the tqdm library:"
      ],
      "metadata": {
        "id": "om9Kj3f18T5P"
      }
    },
    {
      "cell_type": "code",
      "source": [
        "#!pip install tqdm  # if not install\n",
        "import tqdm"
      ],
      "metadata": {
        "id": "NCPfNOza8S2e"
      },
      "execution_count": null,
      "outputs": []
    },
    {
      "cell_type": "code",
      "source": [
        "# For the train dataset\n",
        "train_generator.reset()\n",
        "X_train, y_train = next(train_generator)\n",
        "for i in tqdm.tqdm(range(int(train_generator.n/batch_size)-1)): \n",
        "  img, label = next(train_generator)\n",
        "  X_train = np.append(X_train, img, axis=0 )\n",
        "  y_train = np.append(y_train, label, axis=0)"
      ],
      "metadata": {
        "colab": {
          "base_uri": "https://localhost:8080/"
        },
        "id": "Eon7ZqA0QbBa",
        "outputId": "92aa3443-e58c-40c8-c496-31954db008b0"
      },
      "execution_count": null,
      "outputs": [
        {
          "output_type": "stream",
          "name": "stderr",
          "text": [
            "100%|██████████| 162/162 [02:56<00:00,  1.09s/it]\n"
          ]
        }
      ]
    },
    {
      "cell_type": "code",
      "source": [
        "print(X_train.shape)\n",
        "print(y_train.shape)"
      ],
      "metadata": {
        "colab": {
          "base_uri": "https://localhost:8080/"
        },
        "id": "lTYmg3M-ZMhz",
        "outputId": "cb7cfe92-f301-45a3-9ce7-926bb0237c43"
      },
      "execution_count": null,
      "outputs": [
        {
          "output_type": "stream",
          "name": "stdout",
          "text": [
            "(5216, 150, 150, 3)\n",
            "(5216,)\n"
          ]
        }
      ]
    },
    {
      "cell_type": "code",
      "source": [
        "# For the test dataset\n",
        "test_generator.reset()\n",
        "X_test, Y_test = next(test_generator)\n",
        "for i in tqdm.tqdm(range(int(test_generator.n/batch_size)-1)): \n",
        "  img, label = next(test_generator)\n",
        "  X_test = np.append(X_test, img, axis=0 )\n",
        "  Y_test = np.append(Y_test, label, axis=0)"
      ],
      "metadata": {
        "id": "rJp0EKq69Rrg"
      },
      "execution_count": null,
      "outputs": []
    },
    {
      "cell_type": "code",
      "source": [
        "# Since validation size is smaller than the batch size we don't need to perform the tqdm step.\n",
        "X_val, Y_val = next(validation_generator)"
      ],
      "metadata": {
        "id": "GUj8d9ussDkB"
      },
      "execution_count": null,
      "outputs": []
    },
    {
      "cell_type": "code",
      "source": [
        "print(X_val.shape)\n",
        "print(Y_val.shape)"
      ],
      "metadata": {
        "colab": {
          "base_uri": "https://localhost:8080/"
        },
        "id": "vSzSzI_Xl1cT",
        "outputId": "32ab2f90-1b12-45b3-e20a-46b2399b6ade"
      },
      "execution_count": null,
      "outputs": [
        {
          "output_type": "stream",
          "name": "stdout",
          "text": [
            "(16, 150, 150, 3)\n",
            "(16,)\n"
          ]
        }
      ]
    },
    {
      "cell_type": "markdown",
      "source": [
        "## LeNet5 Model"
      ],
      "metadata": {
        "id": "3wSJYcPR9VVO"
      }
    },
    {
      "cell_type": "markdown",
      "source": [
        "### Model Building"
      ],
      "metadata": {
        "id": "ttBB-pPg9gQR"
      }
    },
    {
      "cell_type": "code",
      "source": [
        "def build_lenet_model():\n",
        "\n",
        "    \"\"\"\n",
        "    Function to build the lenet model as Sequential datatype\n",
        "    \"\"\"\n",
        "\n",
        "    model = Sequential()\n",
        "    model.add(Reshape((3, 150, 150), input_shape=(150, 150, 3)))\n",
        "    model.add(Convolution2D(6, 5, 5, activation=\"tanh\", name=\"conv1_5x5\"))\n",
        "    model.add(MaxPooling2D())\n",
        "    model.add(Convolution2D(12, 5, 5, activation=\"tanh\", name=\"conv2_5x5\"))\n",
        "    model.add(MaxPooling2D())\n",
        "    model.add(Flatten())\n",
        "    model.add(Dense(100, activation=\"tanh\", name=\"fc1\"))\n",
        "    model.add(Dense(2, activation=\"softmax\", name=\"fc2\")) # 2 classes\n",
        "    \n",
        "    return model"
      ],
      "metadata": {
        "id": "62Ojsv4apjDJ"
      },
      "execution_count": null,
      "outputs": []
    },
    {
      "cell_type": "code",
      "source": [
        "lenet = build_lenet_model()"
      ],
      "metadata": {
        "colab": {
          "base_uri": "https://localhost:8080/"
        },
        "id": "dIuynAVbplzx",
        "outputId": "99e9c9a8-41c4-4631-f03a-20566673958a"
      },
      "execution_count": null,
      "outputs": [
        {
          "output_type": "stream",
          "name": "stdout",
          "text": [
            "creating: createZooKerasSequential\n",
            "creating: createZooKerasReshape\n",
            "creating: createZooKerasConvolution2D\n",
            "creating: createZooKerasMaxPooling2D\n",
            "creating: createZooKerasConvolution2D\n",
            "creating: createZooKerasMaxPooling2D\n",
            "creating: createZooKerasFlatten\n",
            "creating: createZooKerasDense\n",
            "creating: createZooKerasDense\n"
          ]
        }
      ]
    },
    {
      "cell_type": "markdown",
      "source": [
        "### Model Compilation"
      ],
      "metadata": {
        "id": "Dk1sWbyq9dmn"
      }
    },
    {
      "cell_type": "markdown",
      "source": [
        "Then, we need to compile the model so the model is optimized in every training step. "
      ],
      "metadata": {
        "id": "r1HwvMKy9mC_"
      }
    },
    {
      "cell_type": "code",
      "source": [
        "lenet.compile(loss='sparse_categorical_crossentropy',\n",
        "                  optimizer='adadelta',\n",
        "                  metrics=['accuracy'])"
      ],
      "metadata": {
        "colab": {
          "base_uri": "https://localhost:8080/"
        },
        "id": "X2WsuuFcp-gP",
        "outputId": "67db329f-e8a6-40a4-ec37-e36716c3f7d6"
      },
      "execution_count": null,
      "outputs": [
        {
          "output_type": "stream",
          "name": "stdout",
          "text": [
            "creating: createAdadelta\n",
            "creating: createZooKerasSparseCategoricalCrossEntropy\n",
            "creating: createZooKerasSparseCategoricalAccuracy\n"
          ]
        }
      ]
    },
    {
      "cell_type": "markdown",
      "source": [
        "### Model fitting"
      ],
      "metadata": {
        "id": "yHH5uNqZ9tBo"
      }
    },
    {
      "cell_type": "markdown",
      "source": [
        "We were not able to fit the model with the whole dataset so we selected a smallest portion of the data:"
      ],
      "metadata": {
        "id": "SXn9FvDQ9vP4"
      }
    },
    {
      "cell_type": "code",
      "source": [
        "sX_train = X_train[:500]\n",
        "sy_train = y_train[:500]"
      ],
      "metadata": {
        "id": "UuIth8O7B7bw"
      },
      "execution_count": null,
      "outputs": []
    },
    {
      "cell_type": "code",
      "source": [
        "lenet.fit(\n",
        "        sX_train,sy_train,\n",
        "        nb_epoch=20,\n",
        "        batch_size = 50,\n",
        "        validation_data=(X_val, Y_val))"
      ],
      "metadata": {
        "id": "2pGOP1UiCGYv"
      },
      "execution_count": null,
      "outputs": []
    },
    {
      "cell_type": "markdown",
      "source": [
        "Implementing the fit_generator option, we could have directly use the train_generator object as input and our fitting could have much better. However, this function is not implemented in the bigdl.dllib library "
      ],
      "metadata": {
        "id": "OYwHdoao91bT"
      }
    },
    {
      "cell_type": "markdown",
      "source": [
        "### Model Evaluation"
      ],
      "metadata": {
        "id": "4_lNoNNh94Ar"
      }
    },
    {
      "cell_type": "code",
      "source": [
        "accuracy = lenet.evaluate(X_test, Y_test, batch_size=20)\n",
        "print(\"TestLoss: \", accuracy[0])\n",
        "print(\"Accuracy: \", accuracy[1])"
      ],
      "metadata": {
        "colab": {
          "base_uri": "https://localhost:8080/"
        },
        "id": "5X63LEKB9zUt",
        "outputId": "cbcc7e58-fca4-4f0f-b8ad-e06236c33d9f"
      },
      "execution_count": null,
      "outputs": [
        {
          "output_type": "stream",
          "name": "stdout",
          "text": [
            "TestLoss:  0.4056383967399597\n",
            "Accuracy:  0.8125\n"
          ]
        }
      ]
    },
    {
      "cell_type": "markdown",
      "source": [
        "We observe that the model can still improve a lot since we are obtained a pretty high Loss. However, the accuracy obtained is not so bad. This shows the potential of this model, with further training and using more data, we could expect some promising results"
      ],
      "metadata": {
        "id": "8ZHEh5Fy98Ky"
      }
    },
    {
      "cell_type": "markdown",
      "source": [
        "## Comments"
      ],
      "metadata": {
        "id": "ijy-qFpz99jx"
      }
    },
    {
      "cell_type": "markdown",
      "source": [
        "We found out that functions and methods implemented in the bigdl.dllib library are sometimes pretty different from original keras methods and functions which complicated the building of different models implement the bigdl.dllib library. \n",
        "\n",
        "\n",
        "Considering these difficulties, we decided to build the lenet model implement the bigdl.dllib library and two other different models using tensorflow "
      ],
      "metadata": {
        "id": "rkE1It0YMj-M"
      }
    }
  ]
}