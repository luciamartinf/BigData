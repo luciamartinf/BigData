{
  "cells": [
    {
      "cell_type": "markdown",
      "metadata": {
        "id": "view-in-github",
        "colab_type": "text"
      },
      "source": [
        "<a href=\"https://colab.research.google.com/github/luciamartinf/BigData/blob/main/CovNet.ipynb\" target=\"_parent\"><img src=\"https://colab.research.google.com/assets/colab-badge.svg\" alt=\"Open In Colab\"/></a>"
      ]
    },
    {
      "cell_type": "markdown",
      "source": [
        "# CovNet Model\n",
        "Ángela Gómez Sacristán, Álvaro González Berdasco y Lucía Martín Fernández"
      ],
      "metadata": {
        "id": "-zSp_AxW_KTa"
      }
    },
    {
      "cell_type": "markdown",
      "source": [
        "## Import libraries\n"
      ],
      "metadata": {
        "id": "zkGArYevlX2Y"
      }
    },
    {
      "cell_type": "code",
      "source": [
        "import numpy as np\n",
        "import seaborn as sns\n",
        "import matplotlib.pyplot as plt\n",
        "import os, random\n",
        "from pathlib import Path\n",
        "import cv2\n",
        "\n",
        "import sklearn\n",
        "from sklearn.metrics import accuracy_score, classification_report\n",
        "\n",
        "import tensorflow as tf\n",
        "from tensorflow import keras\n",
        "from tensorflow.keras.preprocessing.image import ImageDataGenerator\n",
        "from tensorflow.keras.utils import load_img\n",
        "from keras.preprocessing.image import ImageDataGenerator\n",
        "from tensorflow.keras.models import Sequential\n",
        "from tensorflow.keras.layers import Activation, Dropout, Dense, Flatten, BatchNormalization, Conv2D, MaxPool2D\n",
        "from tensorflow.keras.optimizers import Adam\n",
        "from tensorflow.keras import backend as K\n",
        "from tensorflow.keras.preprocessing import image\n",
        "\n",
        "import warnings\n",
        "warnings.filterwarnings('ignore')"
      ],
      "metadata": {
        "id": "GtJ8QlVFibGq"
      },
      "execution_count": null,
      "outputs": []
    },
    {
      "cell_type": "markdown",
      "source": [
        "## Load and Transform data"
      ],
      "metadata": {
        "id": "gunTn8pdlcHr"
      }
    },
    {
      "cell_type": "code",
      "execution_count": null,
      "metadata": {
        "id": "SdYQVCDbvS7v",
        "colab": {
          "base_uri": "https://localhost:8080/"
        },
        "outputId": "efb278be-102d-49fb-e3a3-a50b22075a3b"
      },
      "outputs": [
        {
          "output_type": "stream",
          "name": "stdout",
          "text": [
            "Mounted at /content/drive\n"
          ]
        }
      ],
      "source": [
        "from google.colab import drive\n",
        "drive.mount('/content/drive')"
      ]
    },
    {
      "cell_type": "code",
      "source": [
        "# Define path to the data directory\n",
        "dir_alldata = Path('/content/drive/MyDrive/Colab Notebooks/chest_xray')\n",
        "# Path to train directory (Fancy pathlib...no more os.path!!)\n",
        "train_data_dir = dir_alldata / 'train'\n",
        "\n",
        "# Path to validation directory\n",
        "validation_data_dir = dir_alldata / 'val'\n",
        "\n",
        "# Path to test directory\n",
        "test_data_dir = dir_alldata / 'test'\n",
        "\n",
        "# Get the path to the normal and pneumonia sub-directories\n",
        "normal_cases_train = train_data_dir / 'NORMAL'\n",
        "pneumonia_cases_train = train_data_dir / 'PNEUMONIA'"
      ],
      "metadata": {
        "id": "J-dSGRgfibJ5"
      },
      "execution_count": null,
      "outputs": []
    },
    {
      "cell_type": "code",
      "source": [
        "img_width, img_height = 150,150\n",
        "nb_train_sample =1000\n",
        "nb_validation_samples =100\n",
        "\n",
        "epochs = 50\n",
        "batch_size = 20\n",
        "\n",
        "if K.image_data_format()==\"channels_first\":\n",
        "    input_shape =(3,img_width, img_height)\n",
        "else:\n",
        "    input_shape =(img_width, img_height,3)\n",
        "\n",
        "train_datagen = ImageDataGenerator(rescale=1./255, shear_range=0.2, zoom_range=0.2, horizontal_flip=True)\n",
        "\n",
        "validation_datagen = ImageDataGenerator(rescale=1./255, shear_range=0.2, zoom_range=0.2, horizontal_flip=True)\n",
        "\n",
        "test_datagen = ImageDataGenerator(rescale=1./255)\n",
        "\n",
        "train_generator= train_datagen.flow_from_directory(train_data_dir, target_size =(150,150),batch_size=batch_size, class_mode=\"binary\" )\n",
        "\n",
        "validation_generator = validation_datagen.flow_from_directory(validation_data_dir, target_size = (150,150),batch_size=batch_size, class_mode=\"binary\")\n",
        " \n",
        "test_generator = test_datagen.flow_from_directory(test_data_dir, target_size = (150,150),batch_size=batch_size, class_mode=\"binary\")\n",
        " "
      ],
      "metadata": {
        "id": "CRRVwKbykl3Q",
        "colab": {
          "base_uri": "https://localhost:8080/"
        },
        "outputId": "93e26f39-8ee0-407d-f6f4-aa31ae609085"
      },
      "execution_count": null,
      "outputs": [
        {
          "output_type": "stream",
          "name": "stdout",
          "text": [
            "Found 5216 images belonging to 2 classes.\n",
            "Found 16 images belonging to 2 classes.\n",
            "Found 624 images belonging to 2 classes.\n"
          ]
        }
      ]
    },
    {
      "cell_type": "markdown",
      "source": [
        "## CovNet Model"
      ],
      "metadata": {
        "id": "7aWiFGPn_sdA"
      }
    },
    {
      "cell_type": "markdown",
      "source": [
        "### Building model"
      ],
      "metadata": {
        "id": "pzIV_2Ora1oE"
      }
    },
    {
      "cell_type": "code",
      "source": [
        "# Initialising the convnet and defining it by adding layers\n",
        "model = Sequential()\n",
        "model.add(Conv2D(32,(3,3),input_shape=input_shape))\n",
        "model.add(Activation(\"relu\"))\n",
        "model.add(MaxPool2D(pool_size=(2,2)))\n",
        "\n",
        "model.add(Conv2D(32,(3,3)))\n",
        "model.add(Activation(\"relu\"))\n",
        "model.add(MaxPool2D(pool_size=(2,2)))\n",
        "\n",
        "model.add(Conv2D(64,(3,3)))\n",
        "model.add(Activation(\"relu\"))\n",
        "model.add(MaxPool2D(pool_size=(2,2)))\n",
        "\n",
        "model.add(Flatten())\n",
        "model.add(Dense(64))\n",
        "model.add(Activation(\"relu\"))\n",
        "model.add(Dropout(0.5))\n",
        "model.add(Dense(1))\n",
        "model.add(Activation(\"sigmoid\"))\n",
        "\n",
        "model.summary()"
      ],
      "metadata": {
        "id": "f0soeMQYY0Nh",
        "colab": {
          "base_uri": "https://localhost:8080/"
        },
        "outputId": "f54cdbd2-d12a-4455-b071-e89977a969e3"
      },
      "execution_count": null,
      "outputs": [
        {
          "output_type": "stream",
          "name": "stdout",
          "text": [
            "Model: \"sequential\"\n",
            "_________________________________________________________________\n",
            " Layer (type)                Output Shape              Param #   \n",
            "=================================================================\n",
            " conv2d (Conv2D)             (None, 148, 148, 32)      896       \n",
            "                                                                 \n",
            " activation (Activation)     (None, 148, 148, 32)      0         \n",
            "                                                                 \n",
            " max_pooling2d (MaxPooling2D  (None, 74, 74, 32)       0         \n",
            " )                                                               \n",
            "                                                                 \n",
            " conv2d_1 (Conv2D)           (None, 72, 72, 32)        9248      \n",
            "                                                                 \n",
            " activation_1 (Activation)   (None, 72, 72, 32)        0         \n",
            "                                                                 \n",
            " max_pooling2d_1 (MaxPooling  (None, 36, 36, 32)       0         \n",
            " 2D)                                                             \n",
            "                                                                 \n",
            " conv2d_2 (Conv2D)           (None, 34, 34, 64)        18496     \n",
            "                                                                 \n",
            " activation_2 (Activation)   (None, 34, 34, 64)        0         \n",
            "                                                                 \n",
            " max_pooling2d_2 (MaxPooling  (None, 17, 17, 64)       0         \n",
            " 2D)                                                             \n",
            "                                                                 \n",
            " flatten (Flatten)           (None, 18496)             0         \n",
            "                                                                 \n",
            " dense (Dense)               (None, 64)                1183808   \n",
            "                                                                 \n",
            " activation_3 (Activation)   (None, 64)                0         \n",
            "                                                                 \n",
            " dropout (Dropout)           (None, 64)                0         \n",
            "                                                                 \n",
            " dense_1 (Dense)             (None, 1)                 65        \n",
            "                                                                 \n",
            " activation_4 (Activation)   (None, 1)                 0         \n",
            "                                                                 \n",
            "=================================================================\n",
            "Total params: 1,212,513\n",
            "Trainable params: 1,212,513\n",
            "Non-trainable params: 0\n",
            "_________________________________________________________________\n"
          ]
        }
      ]
    },
    {
      "cell_type": "markdown",
      "source": [
        "### Compiling model"
      ],
      "metadata": {
        "id": "su9ceFdlAOg-"
      }
    },
    {
      "cell_type": "code",
      "source": [
        "# Compiling the Convnet\n",
        "model.compile(loss= \"binary_crossentropy\", optimizer=\"adam\", metrics=[\"accuracy\"])"
      ],
      "metadata": {
        "id": "3rNgooeqY0QJ"
      },
      "execution_count": null,
      "outputs": []
    },
    {
      "cell_type": "markdown",
      "source": [
        "### Fitting model"
      ],
      "metadata": {
        "id": "pBDsHzLoAS__"
      }
    },
    {
      "cell_type": "code",
      "source": [
        "# Train de convnet\n",
        "history = model.fit_generator(train_generator, steps_per_epoch=nb_train_sample//batch_size, epochs=epochs,validation_data=validation_generator, validation_steps=nb_validation_samples//batch_size)"
      ],
      "metadata": {
        "id": "DZlVegDjY0S6",
        "colab": {
          "base_uri": "https://localhost:8080/"
        },
        "outputId": "80f4f48b-3328-40f1-e531-4aeb174709b2"
      },
      "execution_count": null,
      "outputs": [
        {
          "output_type": "stream",
          "name": "stdout",
          "text": [
            "Epoch 1/50\n",
            "50/50 [==============================] - ETA: 0s - loss: 0.5972 - accuracy: 0.7460"
          ]
        },
        {
          "output_type": "stream",
          "name": "stderr",
          "text": [
            "WARNING:tensorflow:Your input ran out of data; interrupting training. Make sure that your dataset or generator can generate at least `steps_per_epoch * epochs` batches (in this case, 5 batches). You may need to use the repeat() function when building your dataset.\n"
          ]
        },
        {
          "output_type": "stream",
          "name": "stdout",
          "text": [
            "\b\b\b\b\b\b\b\b\b\b\b\b\b\b\b\b\b\b\b\b\b\b\b\b\b\b\b\b\b\b\b\b\b\b\b\b\b\b\b\b\b\b\b\b\b\b\b\b\b\b\b\b\b\b\b\b\b\b\b\b\b\b\b\b\b\b\b\b\b\b\b\b\b\b\b\b\b\b\b\b\b\b\r50/50 [==============================] - 196s 4s/step - loss: 0.5972 - accuracy: 0.7460 - val_loss: 0.8403 - val_accuracy: 0.5000\n",
            "Epoch 2/50\n",
            "50/50 [==============================] - 127s 3s/step - loss: 0.4278 - accuracy: 0.7890\n",
            "Epoch 3/50\n",
            "50/50 [==============================] - 104s 2s/step - loss: 0.3627 - accuracy: 0.8112\n",
            "Epoch 4/50\n",
            "50/50 [==============================] - 99s 2s/step - loss: 0.3494 - accuracy: 0.8450\n",
            "Epoch 5/50\n",
            "50/50 [==============================] - 83s 2s/step - loss: 0.2828 - accuracy: 0.8785\n",
            "Epoch 6/50\n",
            "50/50 [==============================] - 74s 1s/step - loss: 0.2699 - accuracy: 0.8980\n",
            "Epoch 7/50\n",
            "50/50 [==============================] - 68s 1s/step - loss: 0.2435 - accuracy: 0.9020\n",
            "Epoch 8/50\n",
            "50/50 [==============================] - 61s 1s/step - loss: 0.2660 - accuracy: 0.8876\n",
            "Epoch 9/50\n",
            "50/50 [==============================] - 56s 1s/step - loss: 0.2488 - accuracy: 0.8840\n",
            "Epoch 10/50\n",
            "50/50 [==============================] - 53s 1s/step - loss: 0.2535 - accuracy: 0.8970\n",
            "Epoch 11/50\n",
            "50/50 [==============================] - 49s 982ms/step - loss: 0.2629 - accuracy: 0.8980\n",
            "Epoch 12/50\n",
            "50/50 [==============================] - 55s 1s/step - loss: 0.2220 - accuracy: 0.9010\n",
            "Epoch 13/50\n",
            "50/50 [==============================] - 47s 938ms/step - loss: 0.2220 - accuracy: 0.9147\n",
            "Epoch 14/50\n",
            "50/50 [==============================] - 45s 886ms/step - loss: 0.2279 - accuracy: 0.9070\n",
            "Epoch 15/50\n",
            "50/50 [==============================] - 45s 889ms/step - loss: 0.1964 - accuracy: 0.9267\n",
            "Epoch 16/50\n",
            "50/50 [==============================] - 46s 913ms/step - loss: 0.2233 - accuracy: 0.9080\n",
            "Epoch 17/50\n",
            "50/50 [==============================] - 44s 870ms/step - loss: 0.2069 - accuracy: 0.9180\n",
            "Epoch 18/50\n",
            "50/50 [==============================] - 45s 895ms/step - loss: 0.2276 - accuracy: 0.9100\n",
            "Epoch 19/50\n",
            "50/50 [==============================] - 45s 890ms/step - loss: 0.2140 - accuracy: 0.9080\n",
            "Epoch 20/50\n",
            "50/50 [==============================] - 44s 878ms/step - loss: 0.2057 - accuracy: 0.9190\n",
            "Epoch 21/50\n",
            "50/50 [==============================] - 50s 982ms/step - loss: 0.2375 - accuracy: 0.9060\n",
            "Epoch 22/50\n",
            "50/50 [==============================] - 44s 867ms/step - loss: 0.2071 - accuracy: 0.9240\n",
            "Epoch 23/50\n",
            "50/50 [==============================] - 44s 869ms/step - loss: 0.1964 - accuracy: 0.9180\n",
            "Epoch 24/50\n",
            "50/50 [==============================] - 44s 867ms/step - loss: 0.1891 - accuracy: 0.9360\n",
            "Epoch 25/50\n",
            "50/50 [==============================] - 44s 872ms/step - loss: 0.1793 - accuracy: 0.9307\n",
            "Epoch 26/50\n",
            "50/50 [==============================] - 44s 865ms/step - loss: 0.1683 - accuracy: 0.9390\n",
            "Epoch 27/50\n",
            "50/50 [==============================] - 43s 852ms/step - loss: 0.1817 - accuracy: 0.9287\n",
            "Epoch 28/50\n",
            "50/50 [==============================] - 43s 861ms/step - loss: 0.2057 - accuracy: 0.9160\n",
            "Epoch 29/50\n",
            "50/50 [==============================] - 44s 868ms/step - loss: 0.1731 - accuracy: 0.9270\n",
            "Epoch 30/50\n",
            "50/50 [==============================] - 44s 875ms/step - loss: 0.1977 - accuracy: 0.9320\n",
            "Epoch 31/50\n",
            "50/50 [==============================] - 43s 857ms/step - loss: 0.1733 - accuracy: 0.9320\n",
            "Epoch 32/50\n",
            "50/50 [==============================] - 44s 863ms/step - loss: 0.1766 - accuracy: 0.9350\n",
            "Epoch 33/50\n",
            "50/50 [==============================] - 43s 853ms/step - loss: 0.1940 - accuracy: 0.9257\n",
            "Epoch 34/50\n",
            "50/50 [==============================] - 43s 845ms/step - loss: 0.1903 - accuracy: 0.9227\n",
            "Epoch 35/50\n",
            "50/50 [==============================] - 43s 850ms/step - loss: 0.1865 - accuracy: 0.9300\n",
            "Epoch 36/50\n",
            "50/50 [==============================] - 43s 857ms/step - loss: 0.1506 - accuracy: 0.9440\n",
            "Epoch 37/50\n",
            "50/50 [==============================] - 43s 859ms/step - loss: 0.1707 - accuracy: 0.9350\n",
            "Epoch 38/50\n",
            "50/50 [==============================] - 43s 863ms/step - loss: 0.1896 - accuracy: 0.9260\n",
            "Epoch 39/50\n",
            "50/50 [==============================] - 44s 868ms/step - loss: 0.1737 - accuracy: 0.9317\n",
            "Epoch 40/50\n",
            "50/50 [==============================] - 43s 859ms/step - loss: 0.1663 - accuracy: 0.9388\n",
            "Epoch 41/50\n",
            "50/50 [==============================] - 43s 853ms/step - loss: 0.1586 - accuracy: 0.9408\n",
            "Epoch 42/50\n",
            "50/50 [==============================] - 43s 859ms/step - loss: 0.1629 - accuracy: 0.9370\n",
            "Epoch 43/50\n",
            " 7/50 [===>..........................] - ETA: 37s - loss: 0.0908 - accuracy: 0.9643"
          ]
        }
      ]
    },
    {
      "cell_type": "markdown",
      "source": [
        "### Model evaluation "
      ],
      "metadata": {
        "id": "_gOF9DIbc3a8"
      }
    },
    {
      "cell_type": "code",
      "source": [
        "#Testing on the test set\n",
        "test_evaluation = model.evaluate_generator(test_generator)"
      ],
      "metadata": {
        "id": "o3vCP9ReY0WP"
      },
      "execution_count": null,
      "outputs": []
    },
    {
      "cell_type": "code",
      "source": [
        "# Evaluating Test accuracy\n",
        "print('The accuracy on test set :',test_evaluation[1]*100 )"
      ],
      "metadata": {
        "id": "fomUhdmKc5wf",
        "colab": {
          "base_uri": "https://localhost:8080/"
        },
        "outputId": "fffe3107-20f7-47bc-ff90-938d1b339977"
      },
      "execution_count": null,
      "outputs": [
        {
          "output_type": "stream",
          "name": "stdout",
          "text": [
            "The accuracy on test set : 84.77563858032227\n"
          ]
        }
      ]
    },
    {
      "cell_type": "markdown",
      "source": [
        "The results of this model are very good (84.8% accuracy). "
      ],
      "metadata": {
        "id": "WGDr5fCy4rdq"
      }
    }
  ],
  "metadata": {
    "colab": {
      "provenance": [],
      "include_colab_link": true
    },
    "kernelspec": {
      "display_name": "Python 3",
      "name": "python3"
    },
    "language_info": {
      "name": "python"
    }
  },
  "nbformat": 4,
  "nbformat_minor": 0
}